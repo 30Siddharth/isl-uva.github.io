{
 "cells": [
  {
   "cell_type": "code",
   "execution_count": 1,
   "metadata": {
    "collapsed": true
   },
   "outputs": [],
   "source": [
    "import pandas as pd\n",
    "import ast\n",
    "from glob import glob"
   ]
  },
  {
   "cell_type": "code",
   "execution_count": 2,
   "metadata": {
    "collapsed": true
   },
   "outputs": [],
   "source": [
    "df = pd.read_csv('articles.csv')\n",
    "df = df.fillna('')"
   ]
  },
  {
   "cell_type": "code",
   "execution_count": 3,
   "metadata": {
    "collapsed": false
   },
   "outputs": [
    {
     "name": "stdout",
     "output_type": "stream",
     "text": [
      "[29484767 29338547 29180258 29030105 28521007 28467917 28222386 28213119\n",
      " 27829086 27742561 27569542 27511454 27378909 27372336 27339689 27251183\n",
      " 27241201 27230218 27211526 27179606 27090056 27039344 26750447 26254112\n",
      " 26231246 26093327 25998956 25982222 25844318 25749860 25733379 25692068\n",
      " 25662104 25462801 25331597 25100166 25093071 25042764 25032500 24945668\n",
      " 24869925 24844743 24763126 24681401 24409112 24399179 24339802 24220041\n",
      " 24194718 24174404 24142505 24115159 24068828 24038902 23928747 23791915\n",
      " 23781190 23755001 23702412 23689016 23685185 23674246 23631994 23452684\n",
      " 23370055 23143344 23042731 22973224 22936519 22922585 22918987 22806915\n",
      " 22659444 22569543 22387170 22319593 22282036 22270812 24179755 22197743\n",
      " 22178808 21963913 21949904 21692142 21667303 21643732 21305667 29484767\n",
      " 29398401 29338547 29311863 28650075 28403383 28222386 27251183 26093327\n",
      " 25998956 25742873 25662104 24354662 23506999 23455594 23110878 22326834]\n"
     ]
    }
   ],
   "source": [
    "print df['pmid'].values"
   ]
  },
  {
   "cell_type": "code",
   "execution_count": 4,
   "metadata": {
    "collapsed": true
   },
   "outputs": [],
   "source": [
    "with open('papers/_posts/template_with_stuff.md', 'r') as fo:\n",
    "    template = fo.read()"
   ]
  },
  {
   "cell_type": "code",
   "execution_count": 5,
   "metadata": {
    "collapsed": false
   },
   "outputs": [
    {
     "name": "stdout",
     "output_type": "stream",
     "text": [
      "95\n",
      "94\n"
     ]
    }
   ],
   "source": [
    "old_papers = sorted(glob('papers/_posts/20*.md'))\n",
    "\n",
    "# One paper is by another MT Sutherland.\n",
    "# Something to do with mouse teeth.\n",
    "skip_pmids = ['28650075']\n",
    "\n",
    "# Add papers we already have pages for.\n",
    "old_pmids = skip_pmids\n",
    "for pap in old_papers:\n",
    "    with open(pap, 'r') as fo:\n",
    "        dat = fo.readlines()\n",
    "    line = [l for l in dat if l.startswith('pmid:')][0]\n",
    "    pmid = line.replace('pmid:', '').strip()\n",
    "    old_pmids.append(pmid)\n",
    "    old_pmids = [pmid for pmid in old_pmids if pmid]\n",
    "print len(old_papers)\n",
    "print len(old_pmids)"
   ]
  },
  {
   "cell_type": "code",
   "execution_count": 6,
   "metadata": {
    "collapsed": false
   },
   "outputs": [
    {
     "name": "stdout",
     "output_type": "stream",
     "text": [
      "['hum brain mapp' 'j psychopharmacol' 'neurosci biobehav rev' 'neuroimage'\n",
      " 'cereb cortex' 'cortex' 'jama psychiatry' 'front neuroendocrinol'\n",
      " 'biol psychiatry' 'front aging neurosci' 'brain struct funct'\n",
      " 'behav brain funct' 'dev sci' 'neuroimage clin' 'j addict'\n",
      " 'j biomed semantics' 'biol psychol' 'annu rev neurosci' 'brain lang'\n",
      " 'front neurosci' 'obesity (silver spring)' 'j neurosci'\n",
      " 'front hum neurosci' 'j pain' 'j am acad child adolesc psychiatry'\n",
      " 'front neuroinform' 'neurodegener dis' 'plos one'\n",
      " 'cogn affect behav neurosci' 'neurol res int' 'neuroinformatics'\n",
      " 'trends mol med' 'front behav neurosci' 'j bone miner res'\n",
      " 'neuropsychopharmacology' 'addict biol' 'psychopharmacology (berl)']\n"
     ]
    }
   ],
   "source": [
    "journals = df['journal'].str.lower().unique()\n",
    "print journals"
   ]
  },
  {
   "cell_type": "code",
   "execution_count": 7,
   "metadata": {
    "collapsed": false
   },
   "outputs": [],
   "source": [
    "for _, row in df.iterrows():\n",
    "    pmid = row['pmid']\n",
    "    if str(pmid) not in old_pmids:\n",
    "        authors = ast.literal_eval(row['authors'])\n",
    "        nickname = '{0}-{1}-{2}-{3}-{4}'.format(row['year'],\n",
    "                                                '{0:02d}'.format(int(row['month'])),\n",
    "                                                '{0:02d}'.format(int(row['day'])),\n",
    "                                                authors[0].split(' ')[0].lower(),\n",
    "                                                '-'.join(row['title'].lower().split(' ')[:3]))\n",
    "        nickname = nickname.replace(':', '')\n",
    "        journal = row['journal']\n",
    "        image = '/assets/images/papers/{0}.png'.format('-'.join(journal.lower().split(' ')))\n",
    "        title = row['title'].replace('\"', \"'\")\n",
    "        completed = template.format(title=title, nickname=nickname,\n",
    "                                    authors=', '.join(authors), year=row['year'],\n",
    "                                    journal=journal, volume=row['volume'],\n",
    "                                    image=image,\n",
    "                                    issue=row['issue'], pages=row['pages'],\n",
    "                                    pmcid=row['pmcid'], doi=row['doi'], pmid=row['pmid'],\n",
    "                                    abstract=row['abstract'])\n",
    "        with open('papers/_posts/{0}.md'.format(nickname), 'w') as fo:\n",
    "            fo.write(completed)"
   ]
  }
 ],
 "metadata": {
  "anaconda-cloud": {},
  "kernelspec": {
   "display_name": "Python [default]",
   "language": "python",
   "name": "python2"
  },
  "language_info": {
   "codemirror_mode": {
    "name": "ipython",
    "version": 2
   },
   "file_extension": ".py",
   "mimetype": "text/x-python",
   "name": "python",
   "nbconvert_exporter": "python",
   "pygments_lexer": "ipython2",
   "version": "2.7.12"
  }
 },
 "nbformat": 4,
 "nbformat_minor": 1
}
